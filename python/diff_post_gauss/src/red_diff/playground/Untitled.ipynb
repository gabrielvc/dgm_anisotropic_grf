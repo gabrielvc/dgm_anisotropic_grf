{
 "cells": [
  {
   "cell_type": "code",
   "execution_count": 1,
   "id": "50f3eb19-05b4-4cd9-8b19-69a14e232114",
   "metadata": {},
   "outputs": [],
   "source": [
    "%matplotlib inline\n",
    "import os\n",
    "import sys\n",
    "sys.path.append('../')\n",
    "\n",
    "import numpy as np\n",
    "import matplotlib.pyplot as plt\n",
    "import torch\n",
    "from hydra import compose, initialize\n",
    "from omegaconf import OmegaConf\n",
    "\n",
    "from datasets.imagenet import get_imagenet_dataset\n",
    "from utils.degredations import H_functions"
   ]
  },
  {
   "cell_type": "code",
   "execution_count": 179,
   "id": "eb213516-404b-4da1-8b89-554922ee0af6",
   "metadata": {},
   "outputs": [],
   "source": [
    "class Inpainting(H_functions):\n",
    "    def __init__(self, channels, img_dim, dense_masks, device):\n",
    "        self.channels = channels\n",
    "        self.img_dim = img_dim\n",
    "        self.dense_masks = dense_masks\n",
    "        n = dense_masks.size(0)\n",
    "        self.missing_masks = torch.cat([torch.nonzero(dense_masks[i] == 0).long() for i in range(n)], dim=1).T\n",
    "        self.keep_masks = torch.cat([torch.nonzero(dense_masks[i] != 0).long() for i in range(n)], dim=1).T\n",
    "        self.device = device\n",
    "        \n",
    "    def set_indices(self, idx):\n",
    "        channels = self.channels\n",
    "        img_dim = self.img_dim\n",
    "        idx = torch.remainder(idx, self.missing_masks.size(0))\n",
    "        print(idx)\n",
    "        self.missing_indices = missing_indices = self.missing_masks[idx]\n",
    "        device = self.device\n",
    "        self._singulars = torch.ones(channels * img_dim ** 2 - missing_indices.shape[1]).to(device)\n",
    "        self.kept_indices = self.keep_masks[idx]\n",
    "\n",
    "    def V(self, vec):\n",
    "        temp = vec.clone().reshape(vec.shape[0], -1)\n",
    "        out = torch.zeros_like(temp)\n",
    "        assert vec.size(0) == self.kept_indices.size(0)\n",
    "        n = vec.size(0)\n",
    "        for i in range(n):\n",
    "            out[i, self.kept_indices[i]] = temp[i, : self.kept_indices[i].shape[0]]\n",
    "            out[i, self.missing_indices[i]] = temp[i, self.kept_indices[i].shape[0] :]\n",
    "        return out #.reshape(vec.shape[0], -1, self.channels).permute(0, 2, 1).reshape(vec.shape[0], -1)\n",
    "\n",
    "    def Vt(self, vec):\n",
    "        temp = vec.clone().reshape(vec.shape[0], -1)\n",
    "        out = torch.zeros_like(temp)\n",
    "        assert vec.size(0) == self.kept_indices.size(0)\n",
    "        n = vec.size(0)\n",
    "        for i in range(n):\n",
    "            out[i, : self.kept_indices[i].shape[0]] = temp[i, self.kept_indices[i]]\n",
    "            out[i, self.kept_indices[i].shape[0] :] = temp[i, self.missing_indices[i]]\n",
    "        return out\n",
    "\n",
    "    def U(self, vec):\n",
    "        return vec.clone().reshape(vec.shape[0], -1)\n",
    "\n",
    "    def Ut(self, vec):\n",
    "        return vec.clone().reshape(vec.shape[0], -1)\n",
    "\n",
    "    def singulars(self):\n",
    "        return self._singulars\n",
    "\n",
    "    def add_zeros(self, vec):\n",
    "        temp = torch.zeros((vec.shape[0], self.channels * self.img_dim ** 2), device=vec.device)\n",
    "        reshaped = vec.clone().reshape(vec.shape[0], -1)\n",
    "        temp[:, : reshaped.shape[1]] = reshaped\n",
    "        return temp\n",
    "\n",
    "    def H(self, vec):\n",
    "        \"\"\"\n",
    "        Multiplies the input vector by H\n",
    "        \"\"\"\n",
    "        temp = self.Vt(vec)\n",
    "        singulars = self.singulars()\n",
    "        return self.U(singulars * temp[:, :singulars.shape[0]])\n",
    "\n",
    "    def Ht(self, vec):\n",
    "        \"\"\"\n",
    "        Multiplies the input vector by H transposed\n",
    "        \"\"\"\n",
    "        temp = self.Ut(vec)\n",
    "        singulars = self.singulars()\n",
    "        return self.V(self.add_zeros(singulars * temp[:, : singulars.shape[0]]))\n",
    "\n",
    "    def H_pinv(self, vec):\n",
    "        \"\"\"\n",
    "        Multiplies the input vector by the pseudo inverse of H\n",
    "        \"\"\"\n",
    "        temp = self.Ut(vec)  # (b, m) - > (b, m)\n",
    "        singulars = self.singulars()  # (mxm, )\n",
    "        # temp[:, :singulars.shape[0]] = temp[:, :singulars.shape[0]] / singulars\n",
    "        nonzero_idx = singulars.nonzero().flatten()\n",
    "        temp[:, nonzero_idx] = temp[:, nonzero_idx] / singulars[nonzero_idx]\n",
    "\n",
    "        return self.V(self.add_zeros(temp))\n",
    "\n",
    "\n",
    "# a memory inefficient implementation for any general degradation H"
   ]
  },
  {
   "cell_type": "code",
   "execution_count": 113,
   "id": "df2a9820-9c4a-427b-9326-811e057cd820",
   "metadata": {},
   "outputs": [
    {
     "data": {
      "text/plain": [
       "tensor([[ 0.3976, -0.5797,  0.3712],\n",
       "        [ 0.5644, -0.4165, -0.1824]])"
      ]
     },
     "execution_count": 113,
     "metadata": {},
     "output_type": "execute_result"
    }
   ],
   "source": [
    "masks = torch.eye(9)[:4]\n",
    "masks = torch.cat([torch.nonzero(masks[i] == 0).long() for i in range(4)], dim=1).T\n",
    "hw = 9\n",
    "masks = torch.cat([masks, masks+hw, masks+2*hw], dim=1)\n",
    "\n",
    "img = torch.randn(2, 3, 3, 3)\n",
    "inp = Inpainting(3, 3, masks, masks.device)\n",
    "inp.set_indices(torch.tensor([0, 1]).long())\n",
    "\n",
    "inp.H(img) #.view(2, 3, 3, 3)"
   ]
  },
  {
   "cell_type": "code",
   "execution_count": 112,
   "id": "78962b44-8db6-411e-a13c-fed3b25f9498",
   "metadata": {},
   "outputs": [
    {
     "data": {
      "text/plain": [
       "tensor([-0.0557,  0.8483, -1.9537])"
      ]
     },
     "execution_count": 112,
     "metadata": {},
     "output_type": "execute_result"
    }
   ],
   "source": [
    "ratio = 0.90\n",
    "h, w = 256, 256\n",
    "masks = torch.randperm(h * w)[: int((h * w)*0.90)].to(device).long() * 3"
   ]
  },
  {
   "cell_type": "code",
   "execution_count": 92,
   "id": "61fb8363-9800-42b4-a3ed-4aaaf4af7ff6",
   "metadata": {},
   "outputs": [
    {
     "data": {
      "text/plain": [
       "tensor([[1, 2, 3, 4, 5, 6, 7, 8],\n",
       "        [0, 2, 3, 4, 5, 6, 7, 8]])"
      ]
     },
     "execution_count": 92,
     "metadata": {},
     "output_type": "execute_result"
    }
   ],
   "source": [
    "inp.missing_indices"
   ]
  },
  {
   "cell_type": "code",
   "execution_count": 93,
   "id": "ea540b18-9ed8-4fa5-895b-244ee7bca83b",
   "metadata": {},
   "outputs": [],
   "source": [
    "img = torch.randn(2, 1, 3, 3)"
   ]
  },
  {
   "cell_type": "code",
   "execution_count": 114,
   "id": "34eb7fcd-7d46-4542-a6eb-9d052748d571",
   "metadata": {},
   "outputs": [
    {
     "data": {
      "text/plain": [
       "tensor([[[[ 0.3976, -0.1250, -1.1528],\n",
       "          [ 1.0684, -0.5134, -1.3438],\n",
       "          [ 0.7255,  0.8669, -0.6008]],\n",
       "\n",
       "         [[-0.5797, -0.3250,  1.8960],\n",
       "          [-0.4827,  0.2498,  1.2882],\n",
       "          [ 0.2514,  1.1274,  0.7566]],\n",
       "\n",
       "         [[ 0.3712,  0.6022, -1.1351],\n",
       "          [-2.0729, -0.1747,  1.0337],\n",
       "          [ 1.7886,  1.7362, -0.2050]]],\n",
       "\n",
       "\n",
       "        [[[-1.2952,  0.5644,  0.6082],\n",
       "          [-0.9351, -0.9494,  0.7845],\n",
       "          [ 1.4788, -0.9498, -1.3445]],\n",
       "\n",
       "         [[-0.5241, -0.4165,  0.7974],\n",
       "          [ 0.2611,  0.6056,  0.1050],\n",
       "          [-2.0107, -0.6487,  0.1147]],\n",
       "\n",
       "         [[ 0.5575, -0.1824,  0.8770],\n",
       "          [-0.0078,  1.3686,  1.5046],\n",
       "          [ 0.2127, -0.8637, -0.1466]]]])"
      ]
     },
     "execution_count": 114,
     "metadata": {},
     "output_type": "execute_result"
    }
   ],
   "source": [
    "img"
   ]
  },
  {
   "cell_type": "code",
   "execution_count": 119,
   "id": "67131b12-cb4c-40fc-b388-d89348ed692a",
   "metadata": {},
   "outputs": [],
   "source": [
    "def random_sq_bbox(img, mask_shape, image_size=256, margin=(16, 16)):\n",
    "    \"\"\"Generate a random sqaure mask for inpainting\n",
    "    \"\"\"\n",
    "    B, C, H, W = img.shape\n",
    "    h, w = mask_shape\n",
    "    margin_height, margin_width = margin\n",
    "    maxt = image_size - margin_height - h\n",
    "    maxl = image_size - margin_width - w\n",
    "\n",
    "    # bb\n",
    "    t = np.random.randint(margin_height, maxt)\n",
    "    l = np.random.randint(margin_width, maxl)\n",
    "\n",
    "    # make mask\n",
    "    mask = torch.ones([B, C, H, W], device=img.device)\n",
    "    mask[..., t:t+h, l:l+w] = 0\n",
    "\n",
    "    return mask, t, t+h, l, l+w"
   ]
  },
  {
   "cell_type": "code",
   "execution_count": null,
   "id": "e8ba141e-f0ce-4187-af0f-46987c48278b",
   "metadata": {},
   "outputs": [],
   "source": [
    "def random_mask(img, mask_shape, image_size=256, margin=(16, 16)):\n",
    "    \"\"\"Generate a random sqaure mask for inpainting\n",
    "    \"\"\"\n",
    "    B, C, H, W = img.shape\n",
    "    h, w = mask_shape\n",
    "    margin_height, margin_width = margin\n",
    "    maxt = image_size - margin_height - h\n",
    "    maxl = image_size - margin_width - w\n",
    "\n",
    "    # bb\n",
    "    t = np.random.randint(margin_height, maxt)\n",
    "    l = np.random.randint(margin_width, maxl)\n",
    "\n",
    "    # make mask\n",
    "    mask = torch.ones([B, C, H, W], device=img.device)\n",
    "    mask[..., t:t+h, l:l+w] = 0\n",
    "\n",
    "    return mask, t, t+h, l, l+w"
   ]
  },
  {
   "cell_type": "code",
   "execution_count": 240,
   "id": "a4fd7dbb-096b-412d-a645-b37e8e6c36e4",
   "metadata": {},
   "outputs": [],
   "source": [
    "img = torch.randn(1, 3, 256, 256)\n",
    "mask = torch.cat([random_sq_bbox(img, [128, 128])[0].view(1, -1) for i in range(1000)], dim=0)"
   ]
  },
  {
   "cell_type": "code",
   "execution_count": 53,
   "id": "465596d5-4362-4ba5-afbe-a7de8fdbf689",
   "metadata": {},
   "outputs": [
    {
     "ename": "IndexError",
     "evalue": "shape mismatch: indexing tensors could not be broadcast together with shapes [8], [5]",
     "output_type": "error",
     "traceback": [
      "\u001b[0;31m---------------------------------------------------------------------------\u001b[0m",
      "\u001b[0;31mIndexError\u001b[0m                                Traceback (most recent call last)",
      "\u001b[0;32m/tmp/ipykernel_895434/134474619.py\u001b[0m in \u001b[0;36m<module>\u001b[0;34m\u001b[0m\n\u001b[1;32m      1\u001b[0m \u001b[0mm\u001b[0m \u001b[0;34m=\u001b[0m \u001b[0mtorch\u001b[0m\u001b[0;34m.\u001b[0m\u001b[0mdiag\u001b[0m\u001b[0;34m(\u001b[0m\u001b[0mtorch\u001b[0m\u001b[0;34m.\u001b[0m\u001b[0marange\u001b[0m\u001b[0;34m(\u001b[0m\u001b[0;36m9\u001b[0m\u001b[0;34m)\u001b[0m\u001b[0;34m)\u001b[0m\u001b[0;34m\u001b[0m\u001b[0;34m\u001b[0m\u001b[0m\n\u001b[1;32m      2\u001b[0m \u001b[0;34m\u001b[0m\u001b[0m\n\u001b[0;32m----> 3\u001b[0;31m \u001b[0mm\u001b[0m\u001b[0;34m[\u001b[0m\u001b[0mtorch\u001b[0m\u001b[0;34m.\u001b[0m\u001b[0mnonzero\u001b[0m\u001b[0;34m(\u001b[0m\u001b[0mm\u001b[0m\u001b[0;34m)\u001b[0m\u001b[0;34m[\u001b[0m\u001b[0;34m:\u001b[0m\u001b[0;34m,\u001b[0m \u001b[0;36m0\u001b[0m\u001b[0;34m]\u001b[0m\u001b[0;34m,\u001b[0m \u001b[0mtorch\u001b[0m\u001b[0;34m.\u001b[0m\u001b[0marange\u001b[0m\u001b[0;34m(\u001b[0m\u001b[0;36m5\u001b[0m\u001b[0;34m)\u001b[0m\u001b[0;34m]\u001b[0m\u001b[0;34m\u001b[0m\u001b[0;34m\u001b[0m\u001b[0m\n\u001b[0m",
      "\u001b[0;31mIndexError\u001b[0m: shape mismatch: indexing tensors could not be broadcast together with shapes [8], [5]"
     ]
    }
   ],
   "source": [
    "m = torch.diag(torch.arange(9))\n",
    "\n",
    "m[torch.nonzero(m)[:, 0], torch.arange(5)]"
   ]
  },
  {
   "cell_type": "code",
   "execution_count": 127,
   "id": "a5f492e1-592e-44f0-b1f6-e19e9cd9a882",
   "metadata": {},
   "outputs": [
    {
     "data": {
      "text/plain": [
       "torch.Size([1000, 65536])"
      ]
     },
     "execution_count": 127,
     "metadata": {},
     "output_type": "execute_result"
    }
   ],
   "source": [
    "mask.size()"
   ]
  },
  {
   "cell_type": "code",
   "execution_count": 157,
   "id": "1380e91a-993f-4ba6-b6b9-2d3d6f2ed9b8",
   "metadata": {},
   "outputs": [],
   "source": [
    "masks = torch.cat([torch.nonzero(mask[i] == 0).long() for i in range(1000)], dim=1).T"
   ]
  },
  {
   "cell_type": "code",
   "execution_count": 153,
   "id": "f5ae60de-119e-4321-9e0c-b38266498f09",
   "metadata": {},
   "outputs": [
    {
     "data": {
      "text/plain": [
       "torch.Size([1000, 16384])"
      ]
     },
     "execution_count": 153,
     "metadata": {},
     "output_type": "execute_result"
    }
   ],
   "source": [
    "masks.size()"
   ]
  },
  {
   "cell_type": "code",
   "execution_count": 246,
   "id": "b2cc4d15-223a-46cc-824e-58ef487eb0a3",
   "metadata": {},
   "outputs": [],
   "source": [
    "inp = Inpainting(3, 256, torch.from_numpy(z), mask.device)"
   ]
  },
  {
   "cell_type": "code",
   "execution_count": 247,
   "id": "2a8cb823-80c4-4bcf-bf96-f12bb004ccf3",
   "metadata": {},
   "outputs": [],
   "source": [
    "\n",
    "import imageio.v3 as iio\n",
    "a = torch.from_numpy(iio.imread('adm.png')).permute(2, 0, 1).view(-1, 3, 256, 256).float() / 255"
   ]
  },
  {
   "cell_type": "code",
   "execution_count": 249,
   "id": "21bad1d3-6ce1-4c16-9baa-6d9cf72ec734",
   "metadata": {},
   "outputs": [
    {
     "name": "stdout",
     "output_type": "stream",
     "text": [
      "tensor([900])\n"
     ]
    }
   ],
   "source": [
    "inp.set_indices(torch.tensor([900]).long())"
   ]
  },
  {
   "cell_type": "code",
   "execution_count": 250,
   "id": "4f4795d3-6b08-4f09-b8ae-feae6b1b7b56",
   "metadata": {},
   "outputs": [
    {
     "data": {
      "text/plain": [
       "<matplotlib.image.AxesImage at 0x7f3769dbf130>"
      ]
     },
     "execution_count": 250,
     "metadata": {},
     "output_type": "execute_result"
    },
    {
     "data": {
      "image/png": "[encoded data removed]",
      "text/plain": [
       "<Figure size 432x288 with 1 Axes>"
      ]
     },
     "metadata": {
      "needs_background": "light"
     },
     "output_type": "display_data"
    }
   ],
   "source": [
    "plt.imshow(inp.H_pinv(inp.H(a)).view(3, 256, 256).permute(1, 2, 0))"
   ]
  },
  {
   "cell_type": "code",
   "execution_count": 146,
   "id": "f09023bd-baa3-4dc8-bb6c-60e2de9f76df",
   "metadata": {},
   "outputs": [
    {
     "data": {
      "text/plain": [
       "torch.Size([1, 147456])"
      ]
     },
     "execution_count": 146,
     "metadata": {},
     "output_type": "execute_result"
    }
   ],
   "source": [
    "inp.H(a).size()"
   ]
  },
  {
   "cell_type": "code",
   "execution_count": 161,
   "id": "b75627bb-0130-4998-b9de-92210421a678",
   "metadata": {},
   "outputs": [
    {
     "data": {
      "text/plain": [
       "torch.Size([49152, 1])"
      ]
     },
     "execution_count": 161,
     "metadata": {},
     "output_type": "execute_result"
    }
   ],
   "source": [
    "torch.nonzero(mask[0] == 0).long().size()"
   ]
  },
  {
   "cell_type": "code",
   "execution_count": 163,
   "id": "fc90bb8e-7ef4-49b8-972b-cd160d803129",
   "metadata": {},
   "outputs": [
    {
     "data": {
      "text/plain": [
       "tensor([0, 0, 0, 0, 0, 0])"
      ]
     },
     "execution_count": 163,
     "metadata": {},
     "output_type": "execute_result"
    }
   ],
   "source": [
    "torch.remainder(torch.tensor([-3, -2, -1, 1, 2, 3]), 1)"
   ]
  },
  {
   "cell_type": "code",
   "execution_count": 173,
   "id": "f8ea2c4b-7081-4b32-bde6-671525d9d2da",
   "metadata": {},
   "outputs": [
    {
     "data": {
      "text/plain": [
       "torch.Size([1000, 196608])"
      ]
     },
     "execution_count": 173,
     "metadata": {},
     "output_type": "execute_result"
    }
   ],
   "source": [
    "mask.size()"
   ]
  },
  {
   "cell_type": "code",
   "execution_count": 195,
   "id": "57c2c3cd-b5fb-4d60-b35b-15749050edb5",
   "metadata": {},
   "outputs": [
    {
     "data": {
      "text/plain": [
       "torch.Size([1000, 196608])"
      ]
     },
     "execution_count": 195,
     "metadata": {},
     "output_type": "execute_result"
    }
   ],
   "source": [
    "mask.size()"
   ]
  },
  {
   "cell_type": "code",
   "execution_count": 216,
   "id": "7b49528a-7015-4251-bd5e-5dbd6c0ac2c1",
   "metadata": {},
   "outputs": [],
   "source": [
    "np.save('extreme.npy', mask.cpu().numpy().astype(bool))"
   ]
  },
  {
   "cell_type": "code",
   "execution_count": 34,
   "id": "31ec3d8f-c734-48af-ba7b-a8e66ce2e695",
   "metadata": {},
   "outputs": [],
   "source": [
    "mask = np.ones([10, 3, 256, 256])\n",
    "mask[:, :, 64:64+128, 64:64+128] = 0\n",
    "mask = np.reshape(mask, [10, -1])"
   ]
  },
  {
   "cell_type": "code",
   "execution_count": 2,
   "id": "7767dd38-83e8-486c-b15d-5767dae6b218",
   "metadata": {},
   "outputs": [],
   "source": [
    "def save_mask(f, mask):\n",
    "    m_npy = mask.astype(bool)\n",
    "    m = np.packbits(m_npy, axis=None)\n",
    "    shape = m_npy.shape\n",
    "    np.savez(f, m=m, shape=shape)"
   ]
  },
  {
   "cell_type": "code",
   "execution_count": 3,
   "id": "af30269b-ecb9-4946-af66-785aad6801cb",
   "metadata": {},
   "outputs": [],
   "source": [
    "def load_mask(f):\n",
    "    d = np.load(f)\n",
    "    m = d['m']\n",
    "    shape = d['shape']\n",
    "    m = np.unpackbits(m, count=np.prod(shape)).reshape(shape).view(bool)\n",
    "    return m"
   ]
  },
  {
   "cell_type": "code",
   "execution_count": 244,
   "id": "669cfec9-fe0f-4dbc-bf94-17461bd38db9",
   "metadata": {},
   "outputs": [],
   "source": [
    "save_mask('box.npz', mask.cpu().numpy())"
   ]
  },
  {
   "cell_type": "code",
   "execution_count": 28,
   "id": "28aa1c86-1782-462a-a11c-ab3765d07738",
   "metadata": {},
   "outputs": [],
   "source": [
    "z = load_mask('../_exp/masks/center.npz')"
   ]
  },
  {
   "cell_type": "code",
   "execution_count": 14,
   "id": "d8c10c11-ccc6-4753-9789-940dd2c4db40",
   "metadata": {},
   "outputs": [],
   "source": [
    "zz = np.random.rand(*z.shape) < 0.1"
   ]
  },
  {
   "cell_type": "code",
   "execution_count": 35,
   "id": "73ae4ad9-0aa7-493a-ba4a-34a3586d35d7",
   "metadata": {},
   "outputs": [],
   "source": [
    "save_mask('../_exp/masks/center.npz', mask)"
   ]
  },
  {
   "cell_type": "code",
   "execution_count": 28,
   "id": "94c4025c-7a3a-4a64-a76c-b63a34699838",
   "metadata": {},
   "outputs": [],
   "source": [
    "a = np.load('../_exp/fid_stats/imagenet256_val.npy').astype(np.float64)"
   ]
  },
  {
   "cell_type": "code",
   "execution_count": 18,
   "id": "2c894761-9038-4d92-a914-0a352d1587ab",
   "metadata": {},
   "outputs": [
    {
     "ename": "ValueError",
     "evalue": "cannot reshape array of size 196608000 into shape (1000,256,256)",
     "output_type": "error",
     "traceback": [
      "\u001b[0;31m---------------------------------------------------------------------------\u001b[0m",
      "\u001b[0;31mValueError\u001b[0m                                Traceback (most recent call last)",
      "\u001b[0;32m/tmp/ipykernel_1463613/3657197547.py\u001b[0m in \u001b[0;36m<module>\u001b[0;34m\u001b[0m\n\u001b[0;32m----> 1\u001b[0;31m \u001b[0mzz\u001b[0m \u001b[0;34m=\u001b[0m \u001b[0mnp\u001b[0m\u001b[0;34m.\u001b[0m\u001b[0mreshape\u001b[0m\u001b[0;34m(\u001b[0m\u001b[0mzz\u001b[0m\u001b[0;34m,\u001b[0m \u001b[0;34m[\u001b[0m\u001b[0;36m1000\u001b[0m\u001b[0;34m,\u001b[0m \u001b[0;36m256\u001b[0m\u001b[0;34m,\u001b[0m \u001b[0;36m256\u001b[0m\u001b[0;34m]\u001b[0m\u001b[0;34m)\u001b[0m\u001b[0;34m\u001b[0m\u001b[0;34m\u001b[0m\u001b[0m\n\u001b[0m",
      "\u001b[0;32m<__array_function__ internals>\u001b[0m in \u001b[0;36mreshape\u001b[0;34m(*args, **kwargs)\u001b[0m\n",
      "\u001b[0;32m~/.miniconda3/envs/ddrm/lib/python3.9/site-packages/numpy/core/fromnumeric.py\u001b[0m in \u001b[0;36mreshape\u001b[0;34m(a, newshape, order)\u001b[0m\n\u001b[1;32m    296\u001b[0m            [5, 6]])\n\u001b[1;32m    297\u001b[0m     \"\"\"\n\u001b[0;32m--> 298\u001b[0;31m     \u001b[0;32mreturn\u001b[0m \u001b[0m_wrapfunc\u001b[0m\u001b[0;34m(\u001b[0m\u001b[0ma\u001b[0m\u001b[0;34m,\u001b[0m \u001b[0;34m'reshape'\u001b[0m\u001b[0;34m,\u001b[0m \u001b[0mnewshape\u001b[0m\u001b[0;34m,\u001b[0m \u001b[0morder\u001b[0m\u001b[0;34m=\u001b[0m\u001b[0morder\u001b[0m\u001b[0;34m)\u001b[0m\u001b[0;34m\u001b[0m\u001b[0;34m\u001b[0m\u001b[0m\n\u001b[0m\u001b[1;32m    299\u001b[0m \u001b[0;34m\u001b[0m\u001b[0m\n\u001b[1;32m    300\u001b[0m \u001b[0;34m\u001b[0m\u001b[0m\n",
      "\u001b[0;32m~/.miniconda3/envs/ddrm/lib/python3.9/site-packages/numpy/core/fromnumeric.py\u001b[0m in \u001b[0;36m_wrapfunc\u001b[0;34m(obj, method, *args, **kwds)\u001b[0m\n\u001b[1;32m     55\u001b[0m \u001b[0;34m\u001b[0m\u001b[0m\n\u001b[1;32m     56\u001b[0m     \u001b[0;32mtry\u001b[0m\u001b[0;34m:\u001b[0m\u001b[0;34m\u001b[0m\u001b[0;34m\u001b[0m\u001b[0m\n\u001b[0;32m---> 57\u001b[0;31m         \u001b[0;32mreturn\u001b[0m \u001b[0mbound\u001b[0m\u001b[0;34m(\u001b[0m\u001b[0;34m*\u001b[0m\u001b[0margs\u001b[0m\u001b[0;34m,\u001b[0m \u001b[0;34m**\u001b[0m\u001b[0mkwds\u001b[0m\u001b[0;34m)\u001b[0m\u001b[0;34m\u001b[0m\u001b[0;34m\u001b[0m\u001b[0m\n\u001b[0m\u001b[1;32m     58\u001b[0m     \u001b[0;32mexcept\u001b[0m \u001b[0mTypeError\u001b[0m\u001b[0;34m:\u001b[0m\u001b[0;34m\u001b[0m\u001b[0;34m\u001b[0m\u001b[0m\n\u001b[1;32m     59\u001b[0m         \u001b[0;31m# A TypeError occurs if the object does have such a method in its\u001b[0m\u001b[0;34m\u001b[0m\u001b[0;34m\u001b[0m\u001b[0m\n",
      "\u001b[0;31mValueError\u001b[0m: cannot reshape array of size 196608000 into shape (1000,256,256)"
     ]
    }
   ],
   "source": [
    "zz = np.reshape(zz, [1000, 3, 256, 256])"
   ]
  },
  {
   "cell_type": "code",
   "execution_count": 29,
   "id": "93c8c657-451f-41b4-9c26-557851639ce5",
   "metadata": {},
   "outputs": [
    {
     "data": {
      "text/plain": [
       "1.0"
      ]
     },
     "execution_count": 29,
     "metadata": {},
     "output_type": "execute_result"
    }
   ],
   "source": [
    "np.mean(z)"
   ]
  },
  {
   "cell_type": "code",
   "execution_count": 67,
   "id": "6e7c7085-7a4d-4420-a566-db57b728725e",
   "metadata": {},
   "outputs": [
    {
     "name": "stderr",
     "output_type": "stream",
     "text": [
      "/tmp/ipykernel_919532/1174158367.py:1: RuntimeWarning: invalid value encountered in true_divide\n",
      "  np.cov(a[:bs], rowvar=False) /np.cov(a[:bs], rowvar=False, ddof=0)\n"
     ]
    },
    {
     "data": {
      "text/plain": [
       "array([[1.00250627, 1.00250627, 1.00250627, ..., 1.00250627, 1.00250627,\n",
       "        1.00250627],\n",
       "       [1.00250627, 1.00250627, 1.00250627, ..., 1.00250627, 1.00250627,\n",
       "        1.00250627],\n",
       "       [1.00250627, 1.00250627, 1.00250627, ..., 1.00250627, 1.00250627,\n",
       "        1.00250627],\n",
       "       ...,\n",
       "       [1.00250627, 1.00250627, 1.00250627, ..., 1.00250627, 1.00250627,\n",
       "        1.00250627],\n",
       "       [1.00250627, 1.00250627, 1.00250627, ..., 1.00250627, 1.00250627,\n",
       "        1.00250627],\n",
       "       [1.00250627, 1.00250627, 1.00250627, ..., 1.00250627, 1.00250627,\n",
       "        1.00250627]])"
      ]
     },
     "execution_count": 67,
     "metadata": {},
     "output_type": "execute_result"
    }
   ],
   "source": [
    "np.cov(a[:bs], rowvar=False) /np.cov(a[:bs], rowvar=False, ddof=0)"
   ]
  },
  {
   "cell_type": "code",
   "execution_count": 7,
   "id": "1c34ee93-7d53-49db-8b01-66add72021bd",
   "metadata": {},
   "outputs": [],
   "source": [
    "b = a[:100]"
   ]
  },
  {
   "cell_type": "code",
   "execution_count": 36,
   "id": "fd0c7cae-866f-40da-ac0a-0aec67728fb5",
   "metadata": {},
   "outputs": [
    {
     "data": {
      "text/plain": [
       "1.0"
      ]
     },
     "execution_count": 36,
     "metadata": {},
     "output_type": "execute_result"
    }
   ],
   "source": [
    "0.0025 * 400"
   ]
  },
  {
   "cell_type": "code",
   "execution_count": 42,
   "id": "d6e4a8b4-096f-4a1d-9b6f-df0a03114059",
   "metadata": {},
   "outputs": [
    {
     "data": {
      "text/plain": [
       "array([[ 2.61952459e-02, -2.27256246e-05, -7.93342139e-04, ...,\n",
       "         8.94077449e-03,  1.35471126e-04,  5.65158695e-04],\n",
       "       [-2.27256246e-05,  3.87965974e-07,  3.60297245e-06, ...,\n",
       "        -1.63149421e-05,  4.32674043e-07,  1.53936416e-06],\n",
       "       [-7.93342139e-04,  3.60297245e-06,  5.19189382e-04, ...,\n",
       "        -5.10112524e-04,  8.08954524e-05,  3.90613980e-05],\n",
       "       ...,\n",
       "       [ 8.94077449e-03, -1.63149421e-05, -5.10112524e-04, ...,\n",
       "         1.05432384e-02,  2.29026487e-04,  8.43914228e-04],\n",
       "       [ 1.35471126e-04,  4.32674043e-07,  8.08954524e-05, ...,\n",
       "         2.29026487e-04,  3.33270942e-04,  1.65852001e-04],\n",
       "       [ 5.65158695e-04,  1.53936416e-06,  3.90613980e-05, ...,\n",
       "         8.43914228e-04,  1.65852001e-04,  1.52832223e-03]])"
      ]
     },
     "execution_count": 42,
     "metadata": {},
     "output_type": "execute_result"
    }
   ],
   "source": [
    "(np.cov(a[:100], rowvar=False, ddof=0) + np.mean(a[:100], axis=0, keepdims=True).T @ np.mean(a[:100], axis=0, keepdims=True) + np.cov(a[100:200], rowvar=False, ddof=0) + np.mean(a[100:200], axis=0, keepdims=True).T @ np.mean(a[100:200], axis=0, keepdims=True))/2 - np.mean(a[:200], axis=0, keepdims=True).T @ np.mean(a[:200], axis=0, keepdims=True)"
   ]
  },
  {
   "cell_type": "code",
   "execution_count": 39,
   "id": "3f8d75e4-d3d5-4b7b-9206-81478c01f429",
   "metadata": {},
   "outputs": [
    {
     "data": {
      "text/plain": [
       "array([[ 2.87248221e-02, -2.79008390e-05, -4.97784028e-04, ...,\n",
       "         9.43351527e-03, -2.15177407e-04,  5.95488769e-04],\n",
       "       [-2.79008390e-05,  3.36359181e-06,  3.13609163e-06, ...,\n",
       "        -3.91496588e-05,  1.98828306e-06, -4.74588886e-06],\n",
       "       [-4.97784028e-04,  3.13609163e-06,  4.54202693e-04, ...,\n",
       "        -1.11218249e-04,  8.58379521e-05,  3.32948429e-05],\n",
       "       ...,\n",
       "       [ 9.43351527e-03, -3.91496588e-05, -1.11218249e-04, ...,\n",
       "         1.07787726e-02,  2.41690910e-04,  8.58987031e-04],\n",
       "       [-2.15177407e-04,  1.98828306e-06,  8.58379521e-05, ...,\n",
       "         2.41690910e-04,  5.97617082e-04,  1.18886984e-04],\n",
       "       [ 5.95488769e-04, -4.74588886e-06,  3.32948429e-05, ...,\n",
       "         8.58987031e-04,  1.18886984e-04,  1.43155485e-03]])"
      ]
     },
     "execution_count": 39,
     "metadata": {},
     "output_type": "execute_result"
    }
   ],
   "source": [
    "\n",
    "bs = 400\n",
    "\n",
    "a1 = a[:bs].reshape(bs, 2048, 1)\n",
    "a2 = a[:bs].reshape(bs, 1, 2048)\n",
    "\n",
    "(np.mean(a1 @ a2, axis=0) - np.mean(a[:bs], axis=0, keepdims=True).T @ np.mean(a[:bs], axis=0, keepdims=True)) / (bs - 1) * bs"
   ]
  },
  {
   "cell_type": "code",
   "execution_count": 44,
   "id": "f84b2f95-2f9a-45e0-94b4-60f8a06ebd41",
   "metadata": {},
   "outputs": [
    {
     "data": {
      "text/plain": [
       "array([[ 3.89639454e-02, -6.02294947e-05, -4.63518477e-04, ...,\n",
       "         1.29903992e-02,  1.29509968e-05,  9.96997831e-05],\n",
       "       [-6.02294947e-05,  3.34454146e-06,  2.99277148e-06, ...,\n",
       "        -2.67707058e-05,  3.51079073e-07,  1.15651993e-06],\n",
       "       [-4.63518477e-04,  2.99277148e-06,  5.69166303e-04, ...,\n",
       "        -9.12235129e-05,  8.08716635e-05,  5.56085336e-05],\n",
       "       ...,\n",
       "       [ 1.29903992e-02, -2.67707058e-05, -9.12235129e-05, ...,\n",
       "         1.49818428e-02,  3.27610795e-04,  1.27259149e-03],\n",
       "       [ 1.29509968e-05,  3.51079073e-07,  8.08716635e-05, ...,\n",
       "         3.27610795e-04,  4.82016916e-04,  2.03700784e-04],\n",
       "       [ 9.96997831e-05,  1.15651993e-06,  5.56085336e-05, ...,\n",
       "         1.27259149e-03,  2.03700784e-04,  2.01401598e-03]])"
      ]
     },
     "execution_count": 44,
     "metadata": {},
     "output_type": "execute_result"
    }
   ],
   "source": [
    "np.cov(a[:1000], rowvar=False, ddof=0)"
   ]
  },
  {
   "cell_type": "code",
   "execution_count": 68,
   "id": "fd724e34-d3ea-4003-bb93-c73192c2daaf",
   "metadata": {},
   "outputs": [],
   "source": [
    "d = np.load('../_exp/fid_stats/debug_mean_std.npz')"
   ]
  },
  {
   "cell_type": "code",
   "execution_count": 69,
   "id": "380368d6-a102-40aa-9340-402600e84aea",
   "metadata": {},
   "outputs": [
    {
     "data": {
      "text/plain": [
       "array([[ 4.19862400e-02, -1.19536319e-04,  2.00058838e-05, ...,\n",
       "         1.22718443e-02,  6.67558222e-05, -6.19603251e-05],\n",
       "       [-1.19536319e-04,  3.24843876e-05,  1.22161896e-05, ...,\n",
       "        -1.13554018e-04, -6.28035315e-06, -4.40776572e-06],\n",
       "       [ 2.00058838e-05,  1.22161896e-05,  5.13983041e-04, ...,\n",
       "         9.15496096e-05,  6.61750516e-05,  9.91142476e-05],\n",
       "       ...,\n",
       "       [ 1.22718443e-02, -1.13554018e-04,  9.15496096e-05, ...,\n",
       "         1.82307286e-02,  1.13482541e-04,  2.10300837e-03],\n",
       "       [ 6.67558222e-05, -6.28035315e-06,  6.61750516e-05, ...,\n",
       "         1.13482541e-04,  6.17686438e-04,  1.13561884e-04],\n",
       "       [-6.19603251e-05, -4.40776572e-06,  9.91142476e-05, ...,\n",
       "         2.10300837e-03,  1.13561884e-04,  2.55475175e-03]])"
      ]
     },
     "execution_count": 69,
     "metadata": {},
     "output_type": "execute_result"
    }
   ],
   "source": [
    "d['sigma']"
   ]
  },
  {
   "cell_type": "code",
   "execution_count": 59,
   "id": "e7b005ee-9339-4e56-b8eb-dde7728e0dd3",
   "metadata": {},
   "outputs": [],
   "source": [
    "e = np.load('../_exp/fid_stats/debug.npy').astype(np.float64)"
   ]
  },
  {
   "cell_type": "code",
   "execution_count": 60,
   "id": "c4e1d2d1-0663-4110-b606-caaf0fde7093",
   "metadata": {},
   "outputs": [
    {
     "data": {
      "text/plain": [
       "array([[ 4.19862400e-02, -1.19536319e-04,  2.00058838e-05, ...,\n",
       "         1.22718443e-02,  6.67558222e-05, -6.19603251e-05],\n",
       "       [-1.19536319e-04,  3.24843876e-05,  1.22161896e-05, ...,\n",
       "        -1.13554018e-04, -6.28035315e-06, -4.40776572e-06],\n",
       "       [ 2.00058838e-05,  1.22161896e-05,  5.13983041e-04, ...,\n",
       "         9.15496096e-05,  6.61750516e-05,  9.91142476e-05],\n",
       "       ...,\n",
       "       [ 1.22718443e-02, -1.13554018e-04,  9.15496096e-05, ...,\n",
       "         1.82307286e-02,  1.13482541e-04,  2.10300837e-03],\n",
       "       [ 6.67558222e-05, -6.28035315e-06,  6.61750516e-05, ...,\n",
       "         1.13482541e-04,  6.17686438e-04,  1.13561884e-04],\n",
       "       [-6.19603251e-05, -4.40776572e-06,  9.91142476e-05, ...,\n",
       "         2.10300837e-03,  1.13561884e-04,  2.55475175e-03]])"
      ]
     },
     "execution_count": 60,
     "metadata": {},
     "output_type": "execute_result"
    }
   ],
   "source": [
    "np.cov(e, rowvar=False)"
   ]
  },
  {
   "cell_type": "code",
   "execution_count": 52,
   "id": "bdb104b8-e8d3-4676-ae02-feb1d55468e4",
   "metadata": {},
   "outputs": [
    {
     "data": {
      "text/plain": [
       "(1000, 2048)"
      ]
     },
     "execution_count": 52,
     "metadata": {},
     "output_type": "execute_result"
    }
   ],
   "source": [
    "e.shape"
   ]
  },
  {
   "cell_type": "code",
   "execution_count": 61,
   "id": "8fd491ca-6054-4560-a0a2-6b22c98b31c1",
   "metadata": {},
   "outputs": [],
   "source": [
    "pbar = [e[:200], e[200:400], e[400:600], e[600:800], e[800:]]\n",
    "\n",
    "moment1 = None\n",
    "moment2 = None\n",
    "size = 0\n",
    "for features in pbar:\n",
    "    if moment1 is None:\n",
    "        moment1 = np.mean(features, axis=0)\n",
    "        moment2 = np.cov(features, rowvar=False, ddof=0) + (moment1.reshape([-1, 1]) @ moment1.reshape([1, -1]))\n",
    "    else:\n",
    "        m1 = np.mean(features, axis=0)\n",
    "        m2 = np.cov(features, rowvar=False, ddof=0) + (m1.reshape([-1, 1]) @ m1.reshape([1, -1]))\n",
    "        moment1 = (moment1 * size + m1 * features.shape[0]) / (size + features.shape[0])\n",
    "        moment2 = (moment2 * size + m2 * features.shape[0]) / (size + features.shape[0])\n",
    "    size = size + features.shape[0]"
   ]
  },
  {
   "cell_type": "code",
   "execution_count": 66,
   "id": "f9252936-4239-4946-b1bf-9eb0c6401857",
   "metadata": {},
   "outputs": [
    {
     "data": {
      "text/plain": [
       "array([[ 4.19862400e-02, -1.19536319e-04,  2.00058838e-05, ...,\n",
       "         1.22718443e-02,  6.67558222e-05, -6.19603251e-05],\n",
       "       [-1.19536319e-04,  3.24843876e-05,  1.22161896e-05, ...,\n",
       "        -1.13554018e-04, -6.28035315e-06, -4.40776572e-06],\n",
       "       [ 2.00058838e-05,  1.22161896e-05,  5.13983041e-04, ...,\n",
       "         9.15496096e-05,  6.61750516e-05,  9.91142476e-05],\n",
       "       ...,\n",
       "       [ 1.22718443e-02, -1.13554018e-04,  9.15496096e-05, ...,\n",
       "         1.82307286e-02,  1.13482541e-04,  2.10300837e-03],\n",
       "       [ 6.67558222e-05, -6.28035315e-06,  6.61750516e-05, ...,\n",
       "         1.13482541e-04,  6.17686438e-04,  1.13561884e-04],\n",
       "       [-6.19603251e-05, -4.40776572e-06,  9.91142476e-05, ...,\n",
       "         2.10300837e-03,  1.13561884e-04,  2.55475175e-03]])"
      ]
     },
     "execution_count": 66,
     "metadata": {},
     "output_type": "execute_result"
    }
   ],
   "source": [
    "(moment2 - moment1.reshape([-1, 1]) @ moment1.reshape([1, -1])) * size / (size - 1)"
   ]
  },
  {
   "cell_type": "code",
   "execution_count": 63,
   "id": "8a44404c-9494-4c39-9d84-889b4e4e71da",
   "metadata": {},
   "outputs": [
    {
     "data": {
      "text/plain": [
       "array([8.82224473e-01, 6.93745786e-04, 4.92905265e-02, ...,\n",
       "       3.50172087e-01, 3.00581385e-02, 9.83726549e-02])"
      ]
     },
     "execution_count": 63,
     "metadata": {},
     "output_type": "execute_result"
    }
   ],
   "source": [
    "np.mean(e, axis=0)"
   ]
  },
  {
   "cell_type": "code",
   "execution_count": null,
   "id": "c04bcef1-0f3e-4868-846d-80a99a2bfebc",
   "metadata": {},
   "outputs": [],
   "source": []
  }
 ],
 "metadata": {
  "kernelspec": {
   "display_name": "Python 3 (ipykernel)",
   "language": "python",
   "name": "python3"
  },
  "language_info": {
   "codemirror_mode": {
    "name": "ipython",
    "version": 3
   },
   "file_extension": ".py",
   "mimetype": "text/x-python",
   "name": "python",
   "nbconvert_exporter": "python",
   "pygments_lexer": "ipython3",
   "version": "3.9.7"
  }
 },
 "nbformat": 4,
 "nbformat_minor": 5
}
